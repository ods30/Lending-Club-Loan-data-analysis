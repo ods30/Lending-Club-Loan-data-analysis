{
 "cells": [
  {
   "cell_type": "markdown",
   "metadata": {},
   "source": [
    "# Table of contents\n",
    "\n",
    "* [Description](#Description)\n",
    "* [2. Goal](#Goal)\n",
    "* [3. Basic data analysis](#Basic_data_analysis)\n",
    "* &emsp;[3.1. Target value](#Target_value)\n",
    "* &emsp;[3.2. Feature exploration , Data cleaning and handling missing values](#Feature_exploration_,_Data_cleaning_and_handling_missing_values)\n",
    "* &emsp;&emsp;[3.2.1. Missing values](#Missing_values)\n",
    "* &emsp;&emsp;[3.2.2. Feature exploration](#Feature_exploration)\n",
    "* &emsp;&emsp;[3.2.3. Categorial features](#Categorial_features)\n",
    "* &emsp;&emsp;[3.2.4. Removing not relevant features](#Removing_not_relevant_features)\n",
    "* [4. Data encoding and preprocessing](#Data_encoding_and_preprocessing)\n",
    "* &emsp;[4.1. Code categorial features](#Code_categorial_features)\n",
    "* &emsp;[4.2. Train data and test data](#Train_data_and_test_data)\n",
    "* [5. Estimators](#Estimators)\n",
    "* &emsp;[5.1. Naive estimator](#Naive_estimator)\n",
    "* &emsp;[5.2. GBM](#GBM)\n",
    "* &emsp;[5.3. Logistic regression](#Logistic_regression)\n",
    "* &emsp;[5.4. NN](#NN)\n",
    "* [6. Conclusions](#Conclusions)\n",
    "* [7. Future work](#Future_work)"
   ]
  },
  {
   "cell_type": "markdown",
   "metadata": {},
   "source": [
    "<a id=\"Description\"></a>\n",
    "# Description \n",
    "\n",
    "Lending Club is a platfform which allows borrowers to ask for loans, and investors to fund them. The borwers have to return the loan with interest rates. Borrowers with high credit scores will get low interset rates and the opposite. The higher the risk the highr the ROI.     \n",
    "The data set includes information about funded loans from Lending Club platfform; It includes information about the loans, the borrowers and what are the loans status. \n",
    "<a id=\"Goal\"></a>\n",
    "# 2. Goal\n",
    "Our goal is to help investors decide if they should fund a specific loan or not.\n",
    "We should note that good loan and bad loan can be interpetted in differnt ways. \n",
    "I will intreduce the different approches and selest one of them."
   ]
  },
  {
   "cell_type": "code",
   "execution_count": 49,
   "metadata": {},
   "outputs": [],
   "source": [
    "#Imports\n",
    "import numpy as np\n",
    "import pandas as pd\n",
    "import matplotlib.pyplot as plt\n",
    "import sklearn as sl\n",
    "import seaborn as sns\n",
    "from itertools import combinations\n",
    "from scipy.stats import pearsonr\n",
    "from sklearn.model_selection import train_test_split\n",
    "from sklearn import preprocessing\n",
    "from sklearn.preprocessing import StandardScaler\n",
    "from sklearn.preprocessing import OneHotEncoder\n",
    "import warnings\n",
    "warnings.filterwarnings('ignore')"
   ]
  },
  {
   "cell_type": "markdown",
   "metadata": {},
   "source": [
    "<a id=\"Basic_data_analysis\"></a>\n",
    "# 3. Basic data analysis\n",
    "In this section i will explore the data, define target value, handle with missing values, handle with categorial featuers and find correlation between features."
   ]
  },
  {
   "cell_type": "code",
   "execution_count": 2,
   "metadata": {},
   "outputs": [],
   "source": [
    "df = pd.read_csv('loan.csv',low_memory=False)"
   ]
  },
  {
   "cell_type": "markdown",
   "metadata": {},
   "source": [
    "<a id=\"Target_value\"></a>\n",
    "# 3.1 Target value"
   ]
  },
  {
   "cell_type": "code",
   "execution_count": 3,
   "metadata": {},
   "outputs": [
    {
     "data": {
      "image/png": "[encoded data removed]",
      "text/plain": [
       "<Figure size 432x288 with 1 Axes>"
      ]
     },
     "metadata": {
      "needs_background": "light"
     },
     "output_type": "display_data"
    }
   ],
   "source": [
    "pl = df['loan_status'].value_counts(normalize=True).mul(100).plot(kind='bar')\n",
    "ay = pl.set_ylabel(\"%\")\n",
    "ax = pl.set_xlabel(\"Loan Status\")"
   ]
  },
  {
   "cell_type": "markdown",
   "metadata": {},
   "source": [
    "Loan status could be:\n",
    "1. Fully paid: the borrower paid all payments in time and the loan has finished. This status will be categorize as good loan. \n",
    "2. Current: The laon period has not finiseh yet. So far all payments are in time. This can be interpeted as good loan, however it is not sure if the borrower will pay all future payments, so it is also possible not to use loans in this status. I will consider all loans with Current status as good loans. \n",
    "3. Charged off / Default: The borrower has not repaid the loan. This status will be categorize as bad loan.\n",
    "4. Late(16-30) / In Grace period / Late (31 - 120): This can be interpeted in differnt ways, it depents on the investor's goals. Does the investor needs the money every month? or does he invest for long term? For each interpetation we can design new models. I will consider this section as bad loans.    \n",
    "5. Does not meet the credit policy - Charged off: The borrower has not repaid the loan. This status will be categorize as bad loan.\n",
    "6. Does not meet the credit policy - Fully paid. Regardless the credit policy - the borrower has fully paid his loan. It will be categorize as good loan."
   ]
  },
  {
   "cell_type": "code",
   "execution_count": 4,
   "metadata": {},
   "outputs": [],
   "source": [
    "good_loan = [\"Current\", \"Fully Paid\" , 'Does not meet the credit policy. Status:Fully Paid']\n",
    "df['loan_condition'] = np.nan\n",
    "\n",
    "def loan_condition(status):\n",
    "    if status in good_loan:\n",
    "        return 1\n",
    "    else:\n",
    "        return 0\n",
    "    \n",
    "df['loan_condition'] = df['loan_status'].apply(loan_condition)\n",
    "df.drop(['loan_status'],axis=1, inplace=True)\n"
   ]
  },
  {
   "cell_type": "code",
   "execution_count": 5,
   "metadata": {},
   "outputs": [
    {
     "data": {
      "image/png": "[encoded data removed]",
      "text/plain": [
       "<Figure size 432x288 with 1 Axes>"
      ]
     },
     "metadata": {
      "needs_background": "light"
     },
     "output_type": "display_data"
    }
   ],
   "source": [
    "pl = df['loan_condition'].value_counts(normalize=True).mul(100).plot(kind='bar')\n",
    "ay = pl.set_ylabel(\"%\")\n",
    "ax = pl.set_xlabel(\"Loan target value\")"
   ]
  },
  {
   "cell_type": "markdown",
   "metadata": {},
   "source": [
    "<a id=\"Feature_exploration_,_Data_cleaning_and_handling_missing_values\"></a>\n",
    "# 3.2 Feature exploration , Data cleaning  and handling missing values.\n",
    "In this section I explore some of the features that seems to be high correlated with the target value. \n",
    "I remove not relevant features like member id etc, and i handle missing values. \n"
   ]
  },
  {
   "cell_type": "code",
   "execution_count": 6,
   "metadata": {},
   "outputs": [
    {
     "data": {
      "text/html": [
       "<div>\n",
       "<style scoped>\n",
       "    .dataframe tbody tr th:only-of-type {\n",
       "        vertical-align: middle;\n",
       "    }\n",
       "\n",
       "    .dataframe tbody tr th {\n",
       "        vertical-align: top;\n",
       "    }\n",
       "\n",
       "    .dataframe thead th {\n",
       "        text-align: right;\n",
       "    }\n",
       "</style>\n",
       "<table border=\"1\" class=\"dataframe\">\n",
       "  <thead>\n",
       "    <tr style=\"text-align: right;\">\n",
       "      <th></th>\n",
       "      <th>id</th>\n",
       "      <th>member_id</th>\n",
       "      <th>loan_amnt</th>\n",
       "      <th>funded_amnt</th>\n",
       "      <th>funded_amnt_inv</th>\n",
       "      <th>term</th>\n",
       "      <th>int_rate</th>\n",
       "      <th>installment</th>\n",
       "      <th>grade</th>\n",
       "      <th>sub_grade</th>\n",
       "      <th>...</th>\n",
       "      <th>hardship_last_payment_amount</th>\n",
       "      <th>disbursement_method</th>\n",
       "      <th>debt_settlement_flag</th>\n",
       "      <th>debt_settlement_flag_date</th>\n",
       "      <th>settlement_status</th>\n",
       "      <th>settlement_date</th>\n",
       "      <th>settlement_amount</th>\n",
       "      <th>settlement_percentage</th>\n",
       "      <th>settlement_term</th>\n",
       "      <th>loan_condition</th>\n",
       "    </tr>\n",
       "  </thead>\n",
       "  <tbody>\n",
       "    <tr>\n",
       "      <th>0</th>\n",
       "      <td>NaN</td>\n",
       "      <td>NaN</td>\n",
       "      <td>2500</td>\n",
       "      <td>2500</td>\n",
       "      <td>2500.0</td>\n",
       "      <td>36 months</td>\n",
       "      <td>13.56</td>\n",
       "      <td>84.92</td>\n",
       "      <td>C</td>\n",
       "      <td>C1</td>\n",
       "      <td>...</td>\n",
       "      <td>NaN</td>\n",
       "      <td>Cash</td>\n",
       "      <td>N</td>\n",
       "      <td>NaN</td>\n",
       "      <td>NaN</td>\n",
       "      <td>NaN</td>\n",
       "      <td>NaN</td>\n",
       "      <td>NaN</td>\n",
       "      <td>NaN</td>\n",
       "      <td>1</td>\n",
       "    </tr>\n",
       "    <tr>\n",
       "      <th>1</th>\n",
       "      <td>NaN</td>\n",
       "      <td>NaN</td>\n",
       "      <td>30000</td>\n",
       "      <td>30000</td>\n",
       "      <td>30000.0</td>\n",
       "      <td>60 months</td>\n",
       "      <td>18.94</td>\n",
       "      <td>777.23</td>\n",
       "      <td>D</td>\n",
       "      <td>D2</td>\n",
       "      <td>...</td>\n",
       "      <td>NaN</td>\n",
       "      <td>Cash</td>\n",
       "      <td>N</td>\n",
       "      <td>NaN</td>\n",
       "      <td>NaN</td>\n",
       "      <td>NaN</td>\n",
       "      <td>NaN</td>\n",
       "      <td>NaN</td>\n",
       "      <td>NaN</td>\n",
       "      <td>1</td>\n",
       "    </tr>\n",
       "    <tr>\n",
       "      <th>2</th>\n",
       "      <td>NaN</td>\n",
       "      <td>NaN</td>\n",
       "      <td>5000</td>\n",
       "      <td>5000</td>\n",
       "      <td>5000.0</td>\n",
       "      <td>36 months</td>\n",
       "      <td>17.97</td>\n",
       "      <td>180.69</td>\n",
       "      <td>D</td>\n",
       "      <td>D1</td>\n",
       "      <td>...</td>\n",
       "      <td>NaN</td>\n",
       "      <td>Cash</td>\n",
       "      <td>N</td>\n",
       "      <td>NaN</td>\n",
       "      <td>NaN</td>\n",
       "      <td>NaN</td>\n",
       "      <td>NaN</td>\n",
       "      <td>NaN</td>\n",
       "      <td>NaN</td>\n",
       "      <td>1</td>\n",
       "    </tr>\n",
       "    <tr>\n",
       "      <th>3</th>\n",
       "      <td>NaN</td>\n",
       "      <td>NaN</td>\n",
       "      <td>4000</td>\n",
       "      <td>4000</td>\n",
       "      <td>4000.0</td>\n",
       "      <td>36 months</td>\n",
       "      <td>18.94</td>\n",
       "      <td>146.51</td>\n",
       "      <td>D</td>\n",
       "      <td>D2</td>\n",
       "      <td>...</td>\n",
       "      <td>NaN</td>\n",
       "      <td>Cash</td>\n",
       "      <td>N</td>\n",
       "      <td>NaN</td>\n",
       "      <td>NaN</td>\n",
       "      <td>NaN</td>\n",
       "      <td>NaN</td>\n",
       "      <td>NaN</td>\n",
       "      <td>NaN</td>\n",
       "      <td>1</td>\n",
       "    </tr>\n",
       "    <tr>\n",
       "      <th>4</th>\n",
       "      <td>NaN</td>\n",
       "      <td>NaN</td>\n",
       "      <td>30000</td>\n",
       "      <td>30000</td>\n",
       "      <td>30000.0</td>\n",
       "      <td>60 months</td>\n",
       "      <td>16.14</td>\n",
       "      <td>731.78</td>\n",
       "      <td>C</td>\n",
       "      <td>C4</td>\n",
       "      <td>...</td>\n",
       "      <td>NaN</td>\n",
       "      <td>Cash</td>\n",
       "      <td>N</td>\n",
       "      <td>NaN</td>\n",
       "      <td>NaN</td>\n",
       "      <td>NaN</td>\n",
       "      <td>NaN</td>\n",
       "      <td>NaN</td>\n",
       "      <td>NaN</td>\n",
       "      <td>1</td>\n",
       "    </tr>\n",
       "  </tbody>\n",
       "</table>\n",
       "<p>5 rows × 145 columns</p>\n",
       "</div>"
      ],
      "text/plain": [
       "   id  member_id  loan_amnt  funded_amnt  funded_amnt_inv        term  \\\n",
       "0 NaN        NaN       2500         2500           2500.0   36 months   \n",
       "1 NaN        NaN      30000        30000          30000.0   60 months   \n",
       "2 NaN        NaN       5000         5000           5000.0   36 months   \n",
       "3 NaN        NaN       4000         4000           4000.0   36 months   \n",
       "4 NaN        NaN      30000        30000          30000.0   60 months   \n",
       "\n",
       "   int_rate  installment grade sub_grade      ...        \\\n",
       "0     13.56        84.92     C        C1      ...         \n",
       "1     18.94       777.23     D        D2      ...         \n",
       "2     17.97       180.69     D        D1      ...         \n",
       "3     18.94       146.51     D        D2      ...         \n",
       "4     16.14       731.78     C        C4      ...         \n",
       "\n",
       "  hardship_last_payment_amount disbursement_method debt_settlement_flag  \\\n",
       "0                          NaN                Cash                    N   \n",
       "1                          NaN                Cash                    N   \n",
       "2                          NaN                Cash                    N   \n",
       "3                          NaN                Cash                    N   \n",
       "4                          NaN                Cash                    N   \n",
       "\n",
       "   debt_settlement_flag_date settlement_status settlement_date  \\\n",
       "0                        NaN               NaN             NaN   \n",
       "1                        NaN               NaN             NaN   \n",
       "2                        NaN               NaN             NaN   \n",
       "3                        NaN               NaN             NaN   \n",
       "4                        NaN               NaN             NaN   \n",
       "\n",
       "  settlement_amount  settlement_percentage settlement_term loan_condition  \n",
       "0               NaN                    NaN             NaN              1  \n",
       "1               NaN                    NaN             NaN              1  \n",
       "2               NaN                    NaN             NaN              1  \n",
       "3               NaN                    NaN             NaN              1  \n",
       "4               NaN                    NaN             NaN              1  \n",
       "\n",
       "[5 rows x 145 columns]"
      ]
     },
     "execution_count": 6,
     "metadata": {},
     "output_type": "execute_result"
    }
   ],
   "source": [
    "df.head()"
   ]
  },
  {
   "cell_type": "code",
   "execution_count": 7,
   "metadata": {},
   "outputs": [
    {
     "name": "stdout",
     "output_type": "stream",
     "text": [
      "<class 'pandas.core.frame.DataFrame'>\n",
      "RangeIndex: 2260668 entries, 0 to 2260667\n",
      "Data columns (total 145 columns):\n",
      "id                                            float64\n",
      "member_id                                     float64\n",
      "loan_amnt                                     int64\n",
      "funded_amnt                                   int64\n",
      "funded_amnt_inv                               float64\n",
      "term                                          object\n",
      "int_rate                                      float64\n",
      "installment                                   float64\n",
      "grade                                         object\n",
      "sub_grade                                     object\n",
      "emp_title                                     object\n",
      "emp_length                                    object\n",
      "home_ownership                                object\n",
      "annual_inc                                    float64\n",
      "verification_status                           object\n",
      "issue_d                                       object\n",
      "pymnt_plan                                    object\n",
      "url                                           float64\n",
      "desc                                          object\n",
      "purpose                                       object\n",
      "title                                         object\n",
      "zip_code                                      object\n",
      "addr_state                                    object\n",
      "dti                                           float64\n",
      "delinq_2yrs                                   float64\n",
      "earliest_cr_line                              object\n",
      "inq_last_6mths                                float64\n",
      "mths_since_last_delinq                        float64\n",
      "mths_since_last_record                        float64\n",
      "open_acc                                      float64\n",
      "pub_rec                                       float64\n",
      "revol_bal                                     int64\n",
      "revol_util                                    float64\n",
      "total_acc                                     float64\n",
      "initial_list_status                           object\n",
      "out_prncp                                     float64\n",
      "out_prncp_inv                                 float64\n",
      "total_pymnt                                   float64\n",
      "total_pymnt_inv                               float64\n",
      "total_rec_prncp                               float64\n",
      "total_rec_int                                 float64\n",
      "total_rec_late_fee                            float64\n",
      "recoveries                                    float64\n",
      "collection_recovery_fee                       float64\n",
      "last_pymnt_d                                  object\n",
      "last_pymnt_amnt                               float64\n",
      "next_pymnt_d                                  object\n",
      "last_credit_pull_d                            object\n",
      "collections_12_mths_ex_med                    float64\n",
      "mths_since_last_major_derog                   float64\n",
      "policy_code                                   int64\n",
      "application_type                              object\n",
      "annual_inc_joint                              float64\n",
      "dti_joint                                     float64\n",
      "verification_status_joint                     object\n",
      "acc_now_delinq                                float64\n",
      "tot_coll_amt                                  float64\n",
      "tot_cur_bal                                   float64\n",
      "open_acc_6m                                   float64\n",
      "open_act_il                                   float64\n",
      "open_il_12m                                   float64\n",
      "open_il_24m                                   float64\n",
      "mths_since_rcnt_il                            float64\n",
      "total_bal_il                                  float64\n",
      "il_util                                       float64\n",
      "open_rv_12m                                   float64\n",
      "open_rv_24m                                   float64\n",
      "max_bal_bc                                    float64\n",
      "all_util                                      float64\n",
      "total_rev_hi_lim                              float64\n",
      "inq_fi                                        float64\n",
      "total_cu_tl                                   float64\n",
      "inq_last_12m                                  float64\n",
      "acc_open_past_24mths                          float64\n",
      "avg_cur_bal                                   float64\n",
      "bc_open_to_buy                                float64\n",
      "bc_util                                       float64\n",
      "chargeoff_within_12_mths                      float64\n",
      "delinq_amnt                                   float64\n",
      "mo_sin_old_il_acct                            float64\n",
      "mo_sin_old_rev_tl_op                          float64\n",
      "mo_sin_rcnt_rev_tl_op                         float64\n",
      "mo_sin_rcnt_tl                                float64\n",
      "mort_acc                                      float64\n",
      "mths_since_recent_bc                          float64\n",
      "mths_since_recent_bc_dlq                      float64\n",
      "mths_since_recent_inq                         float64\n",
      "mths_since_recent_revol_delinq                float64\n",
      "num_accts_ever_120_pd                         float64\n",
      "num_actv_bc_tl                                float64\n",
      "num_actv_rev_tl                               float64\n",
      "num_bc_sats                                   float64\n",
      "num_bc_tl                                     float64\n",
      "num_il_tl                                     float64\n",
      "num_op_rev_tl                                 float64\n",
      "num_rev_accts                                 float64\n",
      "num_rev_tl_bal_gt_0                           float64\n",
      "num_sats                                      float64\n",
      "num_tl_120dpd_2m                              float64\n",
      "num_tl_30dpd                                  float64\n",
      "num_tl_90g_dpd_24m                            float64\n",
      "num_tl_op_past_12m                            float64\n",
      "pct_tl_nvr_dlq                                float64\n",
      "percent_bc_gt_75                              float64\n",
      "pub_rec_bankruptcies                          float64\n",
      "tax_liens                                     float64\n",
      "tot_hi_cred_lim                               float64\n",
      "total_bal_ex_mort                             float64\n",
      "total_bc_limit                                float64\n",
      "total_il_high_credit_limit                    float64\n",
      "revol_bal_joint                               float64\n",
      "sec_app_earliest_cr_line                      object\n",
      "sec_app_inq_last_6mths                        float64\n",
      "sec_app_mort_acc                              float64\n",
      "sec_app_open_acc                              float64\n",
      "sec_app_revol_util                            float64\n",
      "sec_app_open_act_il                           float64\n",
      "sec_app_num_rev_accts                         float64\n",
      "sec_app_chargeoff_within_12_mths              float64\n",
      "sec_app_collections_12_mths_ex_med            float64\n",
      "sec_app_mths_since_last_major_derog           float64\n",
      "hardship_flag                                 object\n",
      "hardship_type                                 object\n",
      "hardship_reason                               object\n",
      "hardship_status                               object\n",
      "deferral_term                                 float64\n",
      "hardship_amount                               float64\n",
      "hardship_start_date                           object\n",
      "hardship_end_date                             object\n",
      "payment_plan_start_date                       object\n",
      "hardship_length                               float64\n",
      "hardship_dpd                                  float64\n",
      "hardship_loan_status                          object\n",
      "orig_projected_additional_accrued_interest    float64\n",
      "hardship_payoff_balance_amount                float64\n",
      "hardship_last_payment_amount                  float64\n",
      "disbursement_method                           object\n",
      "debt_settlement_flag                          object\n",
      "debt_settlement_flag_date                     object\n",
      "settlement_status                             object\n",
      "settlement_date                               object\n",
      "settlement_amount                             float64\n",
      "settlement_percentage                         float64\n",
      "settlement_term                               float64\n",
      "loan_condition                                int64\n",
      "dtypes: float64(105), int64(5), object(35)\n",
      "memory usage: 2.4+ GB\n"
     ]
    }
   ],
   "source": [
    "df.info(verbose=True)"
   ]
  },
  {
   "cell_type": "markdown",
   "metadata": {},
   "source": [
    "<a id=\"Missing_values\"></a>\n",
    "# 3.2.1 Missing values\n",
    "\n",
    "In this section i handle missing values. \n",
    "For every missing value of a countinious feature i assign the mean value.\n",
    "For every missing value of a countinious feature i assign the empty string.\n",
    "\n",
    "Future work:\n",
    "Explore every feature individually, analyize what value should be assigned instead of the missing values."
   ]
  },
  {
   "cell_type": "code",
   "execution_count": 8,
   "metadata": {},
   "outputs": [
    {
     "data": {
      "text/plain": [
       "zip_code                                      4.423471e-07\n",
       "annual_inc                                    1.769389e-06\n",
       "delinq_amnt                                   1.282807e-05\n",
       "pub_rec                                       1.282807e-05\n",
       "acc_now_delinq                                1.282807e-05\n",
       "open_acc                                      1.282807e-05\n",
       "total_acc                                     1.282807e-05\n",
       "delinq_2yrs                                   1.282807e-05\n",
       "earliest_cr_line                              1.282807e-05\n",
       "inq_last_6mths                                1.327041e-05\n",
       "last_credit_pull_d                            3.229134e-05\n",
       "tax_liens                                     4.644645e-05\n",
       "collections_12_mths_ex_med                    6.414033e-05\n",
       "chargeoff_within_12_mths                      6.414033e-05\n",
       "pub_rec_bankruptcies                          6.038038e-04\n",
       "dti                                           7.568559e-04\n",
       "revol_util                                    7.971095e-04\n",
       "last_pymnt_d                                  1.073134e-03\n",
       "title                                         1.031775e-02\n",
       "mort_acc                                      2.213063e-02\n",
       "acc_open_past_24mths                          2.213063e-02\n",
       "total_bc_limit                                2.213063e-02\n",
       "total_bal_ex_mort                             2.213063e-02\n",
       "num_sats                                      2.591712e-02\n",
       "num_bc_sats                                   2.591712e-02\n",
       "num_bc_tl                                     3.108639e-02\n",
       "total_rev_hi_lim                              3.108639e-02\n",
       "mo_sin_rcnt_tl                                3.108639e-02\n",
       "num_accts_ever_120_pd                         3.108639e-02\n",
       "num_actv_bc_tl                                3.108639e-02\n",
       "                                                  ...     \n",
       "sec_app_earliest_cr_line                      9.522172e-01\n",
       "sec_app_inq_last_6mths                        9.522172e-01\n",
       "sec_app_mort_acc                              9.522172e-01\n",
       "sec_app_open_acc                              9.522172e-01\n",
       "revol_bal_joint                               9.522177e-01\n",
       "sec_app_revol_util                            9.530298e-01\n",
       "sec_app_mths_since_last_major_derog           9.841012e-01\n",
       "settlement_amount                             9.853778e-01\n",
       "settlement_status                             9.853778e-01\n",
       "settlement_date                               9.853778e-01\n",
       "debt_settlement_flag_date                     9.853778e-01\n",
       "settlement_term                               9.853778e-01\n",
       "settlement_percentage                         9.853778e-01\n",
       "hardship_status                               9.953054e-01\n",
       "hardship_type                                 9.953054e-01\n",
       "hardship_last_payment_amount                  9.953054e-01\n",
       "hardship_payoff_balance_amount                9.953054e-01\n",
       "hardship_reason                               9.953054e-01\n",
       "hardship_dpd                                  9.953054e-01\n",
       "hardship_loan_status                          9.953054e-01\n",
       "payment_plan_start_date                       9.953054e-01\n",
       "hardship_end_date                             9.953054e-01\n",
       "hardship_start_date                           9.953054e-01\n",
       "hardship_amount                               9.953054e-01\n",
       "deferral_term                                 9.953054e-01\n",
       "hardship_length                               9.953054e-01\n",
       "orig_projected_additional_accrued_interest    9.962728e-01\n",
       "url                                           1.000000e+00\n",
       "member_id                                     1.000000e+00\n",
       "id                                            1.000000e+00\n",
       "Length: 113, dtype: float64"
      ]
     },
     "execution_count": 8,
     "metadata": {},
     "output_type": "execute_result"
    }
   ],
   "source": [
    "#Missing values check\n",
    "nan_mean = df.isna().mean()\n",
    "nan_mean = nan_mean[nan_mean > 0].sort_values()\n",
    "nan_mean"
   ]
  },
  {
   "cell_type": "markdown",
   "metadata": {},
   "source": [
    "id, member_id , url have no values at all. They are not necessary. "
   ]
  },
  {
   "cell_type": "code",
   "execution_count": 9,
   "metadata": {},
   "outputs": [],
   "source": [
    "df.drop(['id','member_id','url'],axis=1, inplace=True)"
   ]
  },
  {
   "cell_type": "code",
   "execution_count": 10,
   "metadata": {},
   "outputs": [],
   "source": [
    "######### - to remove later ######\n",
    "#Handling with missing values\n",
    "#First i will remove features with high precentage of missing values\n",
    "#Every feature with more then 30% missing values is removed.\n",
    "#df = df[df.columns[df.isna().mean() < 0.3]]\n",
    "#nan_mean = df.isna().mean()\n",
    "#nan_mean = nan_mean[nan_mean > 0].sort_values()\n",
    "#nan_mean"
   ]
  },
  {
   "cell_type": "code",
   "execution_count": 11,
   "metadata": {},
   "outputs": [
    {
     "data": {
      "text/plain": [
       "Series([], dtype: float64)"
      ]
     },
     "execution_count": 11,
     "metadata": {},
     "output_type": "execute_result"
    }
   ],
   "source": [
    "#For every float64 trypes i will set the empty values as the mean value.\n",
    "float64_cols = df.select_dtypes(include=[np.float64]).columns\n",
    "df[float64_cols] = df[float64_cols].fillna(df[float64_cols].mean())\n",
    "#For the categorial type i will set the empty values to empty string. \n",
    "categorial_cols = df.select_dtypes(include=[object]).columns\n",
    "df[categorial_cols] = df[categorial_cols].fillna(' ')\n",
    "\n",
    "nan_mean = df.isna().mean()\n",
    "nan_mean = nan_mean[nan_mean > 0].sort_values()\n",
    "nan_mean"
   ]
  },
  {
   "cell_type": "markdown",
   "metadata": {},
   "source": [
    "<a id=\"Feature_exploration\"></a>\n",
    "# 3.2.2 Feature exploration\n",
    "\n",
    "The purpose of this section is to understand the data.\n",
    "I explore the follwong features: loan_amnt , term , grade , sub_grade, annual_inc , addr_state. \n",
    "According to my perspective this features should be high correlated to the target. \n",
    "annual_inc, loan_amnt and term are the basic parameters for a loan. A necessary parameter for a loan is that the borrower earns more than the amount he/she should return every month.\n",
    "grade and sub grade are corelated to the interest rate, which can influence the chances of repay the loan. addr_state migh have correlation to the target (states with more work oppratiounies, differnt social-economic status etc). \n",
    "Moreover, I check correaltion according to Pearson's correlation coefficient. \n",
    "Future work: Explore more features, finiding more correlations and extracting new features."
   ]
  },
  {
   "cell_type": "code",
   "execution_count": 12,
   "metadata": {},
   "outputs": [
    {
     "data": {
      "image/png": "[encoded data removed]",
      "text/plain": [
       "<Figure size 432x288 with 1 Axes>"
      ]
     },
     "metadata": {
      "needs_background": "light"
     },
     "output_type": "display_data"
    }
   ],
   "source": [
    "hist1 = df.hist('loan_amnt')"
   ]
  },
  {
   "cell_type": "code",
   "execution_count": 13,
   "metadata": {},
   "outputs": [
    {
     "data": {
      "text/plain": [
       "0    55000\n",
       "1    90000\n",
       "2    59280\n",
       "3    92000\n",
       "4    57250\n",
       "Name: annual_inc, dtype: int64"
      ]
     },
     "execution_count": 13,
     "metadata": {},
     "output_type": "execute_result"
    }
   ],
   "source": [
    "df['annual_inc'].astype('int64').head() # fix this\n",
    "#hist1 = df.hist('annual_inc')"
   ]
  },
  {
   "cell_type": "code",
   "execution_count": 14,
   "metadata": {},
   "outputs": [
    {
     "data": {
      "image/png": "[encoded data removed]",
      "text/plain": [
       "<Figure size 432x288 with 1 Axes>"
      ]
     },
     "metadata": {
      "needs_background": "light"
     },
     "output_type": "display_data"
    }
   ],
   "source": [
    "pl = df['grade'].value_counts(normalize=True).mul(100).plot(kind='bar')\n",
    "ay = pl.set_ylabel(\"%\")\n",
    "ax = pl.set_xlabel(\"grade\")"
   ]
  },
  {
   "cell_type": "code",
   "execution_count": 15,
   "metadata": {},
   "outputs": [
    {
     "data": {
      "text/plain": [
       "<Figure size 432x288 with 0 Axes>"
      ]
     },
     "metadata": {},
     "output_type": "display_data"
    },
    {
     "data": {
      "image/png": "[encoded data removed]",
      "text/plain": [
       "<Figure size 432x288 with 1 Axes>"
      ]
     },
     "metadata": {
      "needs_background": "light"
     },
     "output_type": "display_data"
    }
   ],
   "source": [
    "plt.figure(figsize = (6,4))\n",
    "loans_by_grade = df.groupby(['grade', 'loan_condition']).size()\n",
    "loans_by_grade.unstack().plot(kind='bar', stacked=True, colormap=plt.cm.coolwarm_r, grid=False)\n",
    "plt.show()"
   ]
  },
  {
   "cell_type": "markdown",
   "metadata": {},
   "source": [
    "In grades E,F,G - bad loans are more frequent then grades A,B,C,D"
   ]
  },
  {
   "cell_type": "code",
   "execution_count": 16,
   "metadata": {},
   "outputs": [
    {
     "data": {
      "image/png": "[encoded data removed]",
      "text/plain": [
       "<Figure size 864x288 with 1 Axes>"
      ]
     },
     "metadata": {
      "needs_background": "light"
     },
     "output_type": "display_data"
    }
   ],
   "source": [
    "pl = df['sub_grade'].value_counts(normalize=True).mul(100).plot(kind='bar',figsize=(12,4))\n",
    "ay = pl.set_ylabel(\"%\")\n",
    "ax = pl.set_xlabel(\"sub_grade\")"
   ]
  },
  {
   "cell_type": "code",
   "execution_count": 17,
   "metadata": {},
   "outputs": [
    {
     "data": {
      "image/png": "[encoded data removed]",
      "text/plain": [
       "<Figure size 864x288 with 1 Axes>"
      ]
     },
     "metadata": {
      "needs_background": "light"
     },
     "output_type": "display_data"
    }
   ],
   "source": [
    "loans_by_grade = df.groupby(['sub_grade', 'loan_condition']).size()\n",
    "loans_by_grade.unstack().plot(kind='bar', stacked=True, colormap=plt.cm.coolwarm_r, grid=False , figsize=(12,4))\n",
    "plt.show()"
   ]
  },
  {
   "cell_type": "code",
   "execution_count": 18,
   "metadata": {},
   "outputs": [
    {
     "data": {
      "image/png": "[encoded data removed]",
      "text/plain": [
       "<Figure size 1440x288 with 1 Axes>"
      ]
     },
     "metadata": {
      "needs_background": "light"
     },
     "output_type": "display_data"
    }
   ],
   "source": [
    "pl = df['addr_state'].value_counts(normalize=True).mul(100).plot(kind='bar' , figsize=(20,4))\n",
    "ay = pl.set_ylabel(\"%\")\n",
    "ax = pl.set_xlabel(\"addr_state\")"
   ]
  },
  {
   "cell_type": "code",
   "execution_count": 19,
   "metadata": {},
   "outputs": [
    {
     "data": {
      "image/png": "[encoded data removed]",
      "text/plain": [
       "<Figure size 1440x576 with 1 Axes>"
      ]
     },
     "metadata": {
      "needs_background": "light"
     },
     "output_type": "display_data"
    }
   ],
   "source": [
    "loans_by_grade = df.groupby(['addr_state', 'loan_condition']).size()\n",
    "loans_by_grade.unstack().plot(kind='bar', stacked=True, colormap=plt.cm.coolwarm_r, grid=False , figsize=(20,8))\n",
    "plt.show()\n",
    "\n",
    "\n"
   ]
  },
  {
   "cell_type": "markdown",
   "metadata": {},
   "source": [
    "Finding correlation between features using Pearson's correlation coefficiante.\n",
    "Features with high correlation might not be needed, and might reduce the efficiency of some models (random forest, GBM).\n",
    "In this point i will leave them as they are. \n",
    "If the esttimators results will not be good enought i will consider going back to this point and remove some of the features.\n"
   ]
  },
  {
   "cell_type": "code",
   "execution_count": 20,
   "metadata": {},
   "outputs": [
    {
     "name": "stderr",
     "output_type": "stream",
     "text": [
      "C:\\Users\\oria\\Anaconda3\\lib\\site-packages\\scipy\\stats\\stats.py:3010: RuntimeWarning: invalid value encountered in double_scalars\n",
      "  r = r_num / r_den\n",
      "C:\\Users\\oria\\Anaconda3\\lib\\site-packages\\scipy\\stats\\stats.py:5256: RuntimeWarning: invalid value encountered in less\n",
      "  x = np.where(x < 1.0, x, 1.0)  # if x > 1 then return 1.0\n"
     ]
    }
   ],
   "source": [
    "features = df.select_dtypes('number').columns.values\n",
    "comb_features = np.array(list(combinations(features, 2)))\n",
    "corr_features = np.array([])\n",
    "for comb in comb_features:\n",
    "    corr = pearsonr(df[comb[0]], df[comb[1]])[0]\n",
    "    corr_features = np.append(corr_features, corr)"
   ]
  },
  {
   "cell_type": "code",
   "execution_count": 21,
   "metadata": {},
   "outputs": [
    {
     "name": "stderr",
     "output_type": "stream",
     "text": [
      "C:\\Users\\oria\\Anaconda3\\lib\\site-packages\\ipykernel_launcher.py:1: RuntimeWarning: invalid value encountered in greater_equal\n",
      "  \"\"\"Entry point for launching an IPython kernel.\n"
     ]
    },
    {
     "data": {
      "text/plain": [
       "array([['loan_amnt', 'funded_amnt'],\n",
       "       ['loan_amnt', 'funded_amnt_inv'],\n",
       "       ['loan_amnt', 'installment'],\n",
       "       ['funded_amnt', 'funded_amnt_inv'],\n",
       "       ['funded_amnt', 'installment'],\n",
       "       ['funded_amnt_inv', 'installment'],\n",
       "       ['open_acc', 'num_sats'],\n",
       "       ['out_prncp', 'out_prncp_inv'],\n",
       "       ['total_pymnt', 'total_pymnt_inv'],\n",
       "       ['total_pymnt', 'total_rec_prncp'],\n",
       "       ['total_pymnt_inv', 'total_rec_prncp'],\n",
       "       ['recoveries', 'collection_recovery_fee'],\n",
       "       ['tot_cur_bal', 'tot_hi_cred_lim'],\n",
       "       ['num_actv_rev_tl', 'num_rev_tl_bal_gt_0']], dtype='<U42')"
      ]
     },
     "execution_count": 21,
     "metadata": {},
     "output_type": "execute_result"
    }
   ],
   "source": [
    "high_corr_num = comb_features[np.abs(corr_features) >= 0.9]\n",
    "high_corr_num"
   ]
  },
  {
   "cell_type": "markdown",
   "metadata": {},
   "source": [
    "<a id=\"Categorial_features\"></a>\n",
    "# 3.2.3 Categorial features\n",
    "\n",
    "In this section i explore and handle categorial features. "
   ]
  },
  {
   "cell_type": "code",
   "execution_count": 22,
   "metadata": {},
   "outputs": [
    {
     "data": {
      "text/plain": [
       "term                              2\n",
       "application_type                  2\n",
       "initial_list_status               2\n",
       "hardship_flag                     2\n",
       "disbursement_method               2\n",
       "pymnt_plan                        2\n",
       "debt_settlement_flag              2\n",
       "hardship_type                     2\n",
       "verification_status               3\n",
       "settlement_status                 4\n",
       "hardship_status                   4\n",
       "verification_status_joint         4\n",
       "home_ownership                    6\n",
       "hardship_loan_status              6\n",
       "grade                             7\n",
       "hardship_reason                  10\n",
       "emp_length                       12\n",
       "purpose                          14\n",
       "payment_plan_start_date          27\n",
       "hardship_start_date              27\n",
       "hardship_end_date                28\n",
       "sub_grade                        35\n",
       "addr_state                       51\n",
       "debt_settlement_flag_date        83\n",
       "settlement_date                  90\n",
       "next_pymnt_d                    106\n",
       "last_pymnt_d                    136\n",
       "issue_d                         139\n",
       "last_credit_pull_d              141\n",
       "sec_app_earliest_cr_line        664\n",
       "earliest_cr_line                755\n",
       "zip_code                        957\n",
       "title                         63156\n",
       "desc                         124501\n",
       "emp_title                    512694\n",
       "dtype: int64"
      ]
     },
     "execution_count": 22,
     "metadata": {},
     "output_type": "execute_result"
    }
   ],
   "source": [
    "#Check if there are categorially features that has relativity large number of values: \n",
    "cat_feat = df.select_dtypes('object').columns.values\n",
    "df[cat_feat].nunique().sort_values()"
   ]
  },
  {
   "cell_type": "markdown",
   "metadata": {},
   "source": [
    "I will remove emp_title and title - there are too many differnt types of categories - which can cause the model to overfitt."
   ]
  },
  {
   "cell_type": "code",
   "execution_count": 23,
   "metadata": {},
   "outputs": [],
   "source": [
    "df.drop(['emp_title','title'],axis=1, inplace=True)"
   ]
  },
  {
   "cell_type": "markdown",
   "metadata": {},
   "source": [
    "I will remove loan description - there are too many differnt types of categories - which can cause the model to overfitt.\n",
    "\n",
    "Future work: reduce number of differnt categories in this feature by changing the categories into more \"wider\" categories. \n",
    "For example - combine all student loans into one category etc.\n",
    "\n",
    "anothe option: use word2vec.\n",
    "\n"
   ]
  },
  {
   "cell_type": "code",
   "execution_count": 24,
   "metadata": {},
   "outputs": [],
   "source": [
    "df.drop(['desc'],axis=1, inplace=True)"
   ]
  },
  {
   "cell_type": "markdown",
   "metadata": {},
   "source": [
    "Lets look at the following features with big amout of differnt values: earliest_cr_line, last_credit_pull_d , issue_d , last_pymnt_d"
   ]
  },
  {
   "cell_type": "code",
   "execution_count": 25,
   "metadata": {},
   "outputs": [
    {
     "data": {
      "text/html": [
       "<div>\n",
       "<style scoped>\n",
       "    .dataframe tbody tr th:only-of-type {\n",
       "        vertical-align: middle;\n",
       "    }\n",
       "\n",
       "    .dataframe tbody tr th {\n",
       "        vertical-align: top;\n",
       "    }\n",
       "\n",
       "    .dataframe thead th {\n",
       "        text-align: right;\n",
       "    }\n",
       "</style>\n",
       "<table border=\"1\" class=\"dataframe\">\n",
       "  <thead>\n",
       "    <tr style=\"text-align: right;\">\n",
       "      <th></th>\n",
       "      <th>earliest_cr_line</th>\n",
       "      <th>last_credit_pull_d</th>\n",
       "      <th>issue_d</th>\n",
       "      <th>last_pymnt_d</th>\n",
       "    </tr>\n",
       "  </thead>\n",
       "  <tbody>\n",
       "    <tr>\n",
       "      <th>0</th>\n",
       "      <td>Apr-2001</td>\n",
       "      <td>Feb-2019</td>\n",
       "      <td>Dec-2018</td>\n",
       "      <td>Feb-2019</td>\n",
       "    </tr>\n",
       "    <tr>\n",
       "      <th>1</th>\n",
       "      <td>Jun-1987</td>\n",
       "      <td>Feb-2019</td>\n",
       "      <td>Dec-2018</td>\n",
       "      <td>Feb-2019</td>\n",
       "    </tr>\n",
       "    <tr>\n",
       "      <th>2</th>\n",
       "      <td>Apr-2011</td>\n",
       "      <td>Feb-2019</td>\n",
       "      <td>Dec-2018</td>\n",
       "      <td>Feb-2019</td>\n",
       "    </tr>\n",
       "    <tr>\n",
       "      <th>3</th>\n",
       "      <td>Feb-2006</td>\n",
       "      <td>Feb-2019</td>\n",
       "      <td>Dec-2018</td>\n",
       "      <td>Feb-2019</td>\n",
       "    </tr>\n",
       "    <tr>\n",
       "      <th>4</th>\n",
       "      <td>Dec-2000</td>\n",
       "      <td>Feb-2019</td>\n",
       "      <td>Dec-2018</td>\n",
       "      <td>Feb-2019</td>\n",
       "    </tr>\n",
       "  </tbody>\n",
       "</table>\n",
       "</div>"
      ],
      "text/plain": [
       "  earliest_cr_line last_credit_pull_d   issue_d last_pymnt_d\n",
       "0         Apr-2001           Feb-2019  Dec-2018     Feb-2019\n",
       "1         Jun-1987           Feb-2019  Dec-2018     Feb-2019\n",
       "2         Apr-2011           Feb-2019  Dec-2018     Feb-2019\n",
       "3         Feb-2006           Feb-2019  Dec-2018     Feb-2019\n",
       "4         Dec-2000           Feb-2019  Dec-2018     Feb-2019"
      ]
     },
     "execution_count": 25,
     "metadata": {},
     "output_type": "execute_result"
    }
   ],
   "source": [
    "df[['earliest_cr_line' ,'last_credit_pull_d','issue_d','last_pymnt_d']].head()"
   ]
  },
  {
   "cell_type": "markdown",
   "metadata": {},
   "source": [
    "I can see that all of them are dates. I can extract new features out of them. For example: issue_d - last_credit_pull_d. and the new featue will be continious.\n",
    "There are alot of hypothesis regarding this data. For the this step, i will leave it as is. "
   ]
  },
  {
   "cell_type": "markdown",
   "metadata": {},
   "source": [
    "<a id=\"Removing_not_relevant_features\"></a>\n",
    "# 3.2.4 Removing not relevant features\n",
    "\n",
    "A deep look into the data will show that there are features that will not be visable to an investor at the \"funding\" phase.\n",
    "\n",
    "The features are:\n",
    "total_rec_prncp:  how much money has received till now. When an investor thinks if he should fund a load or not, this parameter will not be availble. This could cause the etimators to get very good results, but they will be not realistic; if the borrower repaid 90% of the loan, most of the chances he/she will fully repay the loan. This feature should be removed. \n",
    "\n",
    "The same goes for: last_pymnt_amnt , total_pymnt ,total_rec_int ,funded_amnt, funded_amnt_inv ,last_pymnt_d.\n",
    "\n",
    "In this section i drop all of this features."
   ]
  },
  {
   "cell_type": "code",
   "execution_count": 26,
   "metadata": {},
   "outputs": [],
   "source": [
    "df.drop([\"total_rec_prncp\",\"last_pymnt_amnt\",\"total_pymnt\",\"total_rec_int\",\"total_pymnt_inv\",\"funded_amnt\",\"funded_amnt_inv\",\"last_pymnt_d\"],axis=1, inplace=True)"
   ]
  },
  {
   "cell_type": "markdown",
   "metadata": {},
   "source": [
    "<a id=\"Data_encoding_and_preprocessing\"></a>\n",
    "# 4. Data encoding and preprocessing\n",
    "\n",
    "In this section i prepare the data for the traing phase."
   ]
  },
  {
   "cell_type": "markdown",
   "metadata": {},
   "source": [
    "<a id=\"Code_categorial_features\"></a>\n",
    "# 4.1 Code categorial features\n",
    "\n",
    "Turning strings into integers"
   ]
  },
  {
   "cell_type": "code",
   "execution_count": 27,
   "metadata": {},
   "outputs": [
    {
     "name": "stdout",
     "output_type": "stream",
     "text": [
      "Index(['term', 'grade', 'sub_grade', 'emp_length', 'home_ownership',\n",
      "       'verification_status', 'issue_d', 'pymnt_plan', 'purpose', 'zip_code',\n",
      "       'addr_state', 'earliest_cr_line', 'initial_list_status', 'next_pymnt_d',\n",
      "       'last_credit_pull_d', 'application_type', 'verification_status_joint',\n",
      "       'sec_app_earliest_cr_line', 'hardship_flag', 'hardship_type',\n",
      "       'hardship_reason', 'hardship_status', 'hardship_start_date',\n",
      "       'hardship_end_date', 'payment_plan_start_date', 'hardship_loan_status',\n",
      "       'disbursement_method', 'debt_settlement_flag',\n",
      "       'debt_settlement_flag_date', 'settlement_status', 'settlement_date'],\n",
      "      dtype='object') [1, 4, 5, 6, 7, 9, 10, 11, 12, 13, 14, 17, 26, 32, 33, 37, 40, 97, 107, 108, 109, 110, 113, 114, 115, 118, 122, 123, 124, 125, 126]\n"
     ]
    }
   ],
   "source": [
    "categorical_features_list = df.select_dtypes('object').columns\n",
    "categorical_features_list_indices = [df.columns.get_loc(c) for c in categorical_features_list]\n",
    "print(categorical_features_list , categorical_features_list_indices)"
   ]
  },
  {
   "cell_type": "code",
   "execution_count": 28,
   "metadata": {},
   "outputs": [],
   "source": [
    "categorical_features_list_bkp = categorical_features_list\n",
    "categorical_features_list_indices_bkp = categorical_features_list_indices"
   ]
  },
  {
   "cell_type": "code",
   "execution_count": 29,
   "metadata": {},
   "outputs": [],
   "source": [
    "for cat in categorical_features_list:\n",
    "     df[cat] = pd.Categorical(df[cat]).codes"
   ]
  },
  {
   "cell_type": "markdown",
   "metadata": {},
   "source": [
    "<a id=\"Train_data_and_test_data\"></a>\n",
    "# 4.2 Train data and test data. \n",
    "\n",
    "Prepering Train Data and test data.\n",
    "I randomlly devide the data into test and train data. \n",
    "The data is shuffled. \n",
    "\n",
    "Note: I examine few models. I normlize and encode categorial features for each model sepearatlly.\n",
    "\n",
    "Future work: Try to devide the data according to dates and not randomly, i.e train data will be older then test data. This could casuse the model to be more efficient. "
   ]
  },
  {
   "cell_type": "code",
   "execution_count": 30,
   "metadata": {},
   "outputs": [],
   "source": [
    "y = df['loan_condition'].copy()\n",
    "X = df.drop(['loan_condition'], axis=1, errors='ignore').copy()\n",
    "X_train, X_test, y_train, y_test = train_test_split(X, y, stratify=y, random_state=0 , test_size =0.2 , shuffle= True)\n"
   ]
  },
  {
   "cell_type": "code",
   "execution_count": 31,
   "metadata": {},
   "outputs": [
    {
     "data": {
      "text/plain": [
       "<matplotlib.axes._subplots.AxesSubplot at 0x1fea6372550>"
      ]
     },
     "execution_count": 31,
     "metadata": {},
     "output_type": "execute_result"
    },
    {
     "data": {
      "image/png": "[encoded data removed]",
      "text/plain": [
       "<Figure size 432x288 with 1 Axes>"
      ]
     },
     "metadata": {
      "needs_background": "light"
     },
     "output_type": "display_data"
    }
   ],
   "source": [
    "y_train.hist()\n",
    "y_test.hist()"
   ]
  },
  {
   "cell_type": "markdown",
   "metadata": {},
   "source": [
    "<a id=\"Estimators\"></a>\n",
    "# 5. Estimators\n",
    "\n",
    "I will train several modles and examine their results. \n",
    "1. Naive estimator. Always predict 1 (always take te loan). This is the \"base\" estimator, all other estimator results will be compared to this one. This can help evaluate the estimators results. \n",
    "2. GBM\n",
    "3. Logistic regression\n",
    "4. NN\n",
    "\n",
    "I choose to use these estimators because they are suitable for binary classification problems.\n",
    "\n",
    "Evaloation parameters for this data set:\n",
    "\n",
    "TP: predicted not the take the loan and it was a bad loan.\n",
    "\n",
    "TN: predicted to the take the loan and it was a good loan.\n",
    "\n",
    "Accuarcy: does not say a lot because the data is not balanced. Most of the loans are good loans, and the model predicted them. This is not the interesting case. \n",
    "\n",
    "Precision: loans that the estimator predicted not to take them, but they were good loans. Indicades low risk estimator.\n",
    "\n",
    "Recall: bad loans that were predicted as good. This is a dangerous case because the investors can loose money, however high risk loans with high chance of succuss will be found. \n",
    "\n",
    "\n"
   ]
  },
  {
   "cell_type": "code",
   "execution_count": 32,
   "metadata": {},
   "outputs": [],
   "source": [
    "# Function for printing estimator results\n",
    "from sklearn.metrics import confusion_matrix\n",
    "def print_model_results(y,y_pred):\n",
    "    cm = confusion_matrix(y, y_pred)\n",
    "    tp = cm[0,0]\n",
    "    tn = cm[1,1]\n",
    "    fn = cm[0,1]\n",
    "    fp = cm[1,0]\n",
    "    acc = (tp + tn) / (tp + tn + fn + fp)\n",
    "    print (\"Accuracy:\", acc )\n",
    "    if ((tp + fp) != 0):\n",
    "        prec = tp / (tp + fp)\n",
    "        print (\"Precision:\", prec )\n",
    "    if ((tp + fn) != 0):\n",
    "        recall = tp / (tp + fn)\n",
    "        print (\"Recall:\", recall )\n",
    "    \n",
    "    "
   ]
  },
  {
   "cell_type": "markdown",
   "metadata": {},
   "source": [
    "<a id=\"Naive_estimator\"></a>\n",
    "# 5.1 Naive estimator"
   ]
  },
  {
   "cell_type": "code",
   "execution_count": 33,
   "metadata": {},
   "outputs": [
    {
     "data": {
      "text/plain": [
       "array([[     0,  59407],\n",
       "       [     0, 392727]], dtype=int64)"
      ]
     },
     "execution_count": 33,
     "metadata": {},
     "output_type": "execute_result"
    }
   ],
   "source": [
    "predictions = np.ones(shape=(np.shape(y_test)))\n",
    "cm = confusion_matrix(y_test,predictions )\n",
    "cm    "
   ]
  },
  {
   "cell_type": "code",
   "execution_count": 34,
   "metadata": {},
   "outputs": [
    {
     "name": "stdout",
     "output_type": "stream",
     "text": [
      "Accuracy: 0.8686075367037206\n",
      "Recall: 0.0\n"
     ]
    }
   ],
   "source": [
    "print_model_results(y_test,predictions)"
   ]
  },
  {
   "cell_type": "markdown",
   "metadata": {},
   "source": [
    "<a id=\"GBM\"></a>\n",
    "# 5.2 GBM\n",
    "\n",
    "There is no need to normlize the data and encode categorial features for this estimator. \n",
    "Note that the hyper parameters are defualt parameters.\n",
    "Future work will be to optimize hyper parameters."
   ]
  },
  {
   "cell_type": "code",
   "execution_count": 35,
   "metadata": {},
   "outputs": [],
   "source": [
    "import lightgbm"
   ]
  },
  {
   "cell_type": "code",
   "execution_count": 36,
   "metadata": {},
   "outputs": [
    {
     "name": "stderr",
     "output_type": "stream",
     "text": [
      "C:\\Users\\oria\\Anaconda3\\lib\\site-packages\\lightgbm\\basic.py:1184: UserWarning: Using categorical_feature in Dataset.\n",
      "  warnings.warn('Using categorical_feature in Dataset.')\n",
      "C:\\Users\\oria\\Anaconda3\\lib\\site-packages\\lightgbm\\basic.py:742: UserWarning: categorical_feature in param dict is overridden.\n",
      "  warnings.warn('categorical_feature in param dict is overridden.')\n"
     ]
    },
    {
     "name": "stdout",
     "output_type": "stream",
     "text": [
      "[1]\tvalid_0's auc: 0.918207\n",
      "Training until validation scores don't improve for 10 rounds.\n",
      "[2]\tvalid_0's auc: 0.918245\n",
      "[3]\tvalid_0's auc: 0.918233\n",
      "[4]\tvalid_0's auc: 0.918358\n",
      "[5]\tvalid_0's auc: 0.919018\n",
      "[6]\tvalid_0's auc: 0.919258\n",
      "[7]\tvalid_0's auc: 0.920217\n",
      "[8]\tvalid_0's auc: 0.920589\n",
      "[9]\tvalid_0's auc: 0.920899\n",
      "[10]\tvalid_0's auc: 0.920993\n",
      "[11]\tvalid_0's auc: 0.921064\n",
      "[12]\tvalid_0's auc: 0.9211\n",
      "[13]\tvalid_0's auc: 0.921129\n",
      "[14]\tvalid_0's auc: 0.92123\n",
      "[15]\tvalid_0's auc: 0.921271\n",
      "[16]\tvalid_0's auc: 0.921704\n",
      "[17]\tvalid_0's auc: 0.921829\n",
      "[18]\tvalid_0's auc: 0.921873\n",
      "[19]\tvalid_0's auc: 0.922197\n",
      "[20]\tvalid_0's auc: 0.92227\n",
      "[21]\tvalid_0's auc: 0.922394\n",
      "[22]\tvalid_0's auc: 0.922381\n",
      "[23]\tvalid_0's auc: 0.922438\n",
      "[24]\tvalid_0's auc: 0.922544\n",
      "[25]\tvalid_0's auc: 0.922614\n",
      "[26]\tvalid_0's auc: 0.922669\n",
      "[27]\tvalid_0's auc: 0.922726\n",
      "[28]\tvalid_0's auc: 0.92274\n",
      "[29]\tvalid_0's auc: 0.922752\n",
      "[30]\tvalid_0's auc: 0.922766\n",
      "[31]\tvalid_0's auc: 0.922815\n",
      "[32]\tvalid_0's auc: 0.922829\n",
      "[33]\tvalid_0's auc: 0.92303\n",
      "[34]\tvalid_0's auc: 0.923044\n",
      "[35]\tvalid_0's auc: 0.923176\n",
      "[36]\tvalid_0's auc: 0.92333\n",
      "[37]\tvalid_0's auc: 0.923392\n",
      "[38]\tvalid_0's auc: 0.923545\n",
      "[39]\tvalid_0's auc: 0.923615\n",
      "[40]\tvalid_0's auc: 0.923676\n",
      "[41]\tvalid_0's auc: 0.923912\n",
      "[42]\tvalid_0's auc: 0.92401\n",
      "[43]\tvalid_0's auc: 0.924155\n",
      "[44]\tvalid_0's auc: 0.924204\n",
      "[45]\tvalid_0's auc: 0.924232\n",
      "[46]\tvalid_0's auc: 0.924326\n",
      "[47]\tvalid_0's auc: 0.924408\n",
      "[48]\tvalid_0's auc: 0.924464\n",
      "[49]\tvalid_0's auc: 0.924532\n",
      "[50]\tvalid_0's auc: 0.924618\n",
      "[51]\tvalid_0's auc: 0.924727\n",
      "[52]\tvalid_0's auc: 0.924775\n",
      "[53]\tvalid_0's auc: 0.924818\n",
      "[54]\tvalid_0's auc: 0.924862\n",
      "[55]\tvalid_0's auc: 0.924948\n",
      "[56]\tvalid_0's auc: 0.925013\n",
      "[57]\tvalid_0's auc: 0.925111\n",
      "[58]\tvalid_0's auc: 0.925151\n",
      "[59]\tvalid_0's auc: 0.925182\n",
      "[60]\tvalid_0's auc: 0.92524\n",
      "[61]\tvalid_0's auc: 0.925303\n",
      "[62]\tvalid_0's auc: 0.925322\n",
      "[63]\tvalid_0's auc: 0.925361\n",
      "[64]\tvalid_0's auc: 0.925419\n",
      "[65]\tvalid_0's auc: 0.925459\n",
      "[66]\tvalid_0's auc: 0.925486\n",
      "[67]\tvalid_0's auc: 0.925554\n",
      "[68]\tvalid_0's auc: 0.925594\n",
      "[69]\tvalid_0's auc: 0.925707\n",
      "[70]\tvalid_0's auc: 0.925752\n",
      "[71]\tvalid_0's auc: 0.925773\n",
      "[72]\tvalid_0's auc: 0.925802\n",
      "[73]\tvalid_0's auc: 0.925877\n",
      "[74]\tvalid_0's auc: 0.925921\n",
      "[75]\tvalid_0's auc: 0.925945\n",
      "[76]\tvalid_0's auc: 0.925947\n",
      "[77]\tvalid_0's auc: 0.926013\n",
      "[78]\tvalid_0's auc: 0.926086\n",
      "[79]\tvalid_0's auc: 0.926093\n",
      "[80]\tvalid_0's auc: 0.926165\n",
      "[81]\tvalid_0's auc: 0.926236\n",
      "[82]\tvalid_0's auc: 0.926283\n",
      "[83]\tvalid_0's auc: 0.926323\n",
      "[84]\tvalid_0's auc: 0.926336\n",
      "[85]\tvalid_0's auc: 0.926379\n",
      "[86]\tvalid_0's auc: 0.926413\n",
      "[87]\tvalid_0's auc: 0.926439\n",
      "[88]\tvalid_0's auc: 0.926481\n",
      "[89]\tvalid_0's auc: 0.92648\n",
      "[90]\tvalid_0's auc: 0.926561\n",
      "[91]\tvalid_0's auc: 0.926586\n",
      "[92]\tvalid_0's auc: 0.926612\n",
      "[93]\tvalid_0's auc: 0.926709\n",
      "[94]\tvalid_0's auc: 0.926739\n",
      "[95]\tvalid_0's auc: 0.926765\n",
      "[96]\tvalid_0's auc: 0.926781\n",
      "[97]\tvalid_0's auc: 0.926875\n",
      "[98]\tvalid_0's auc: 0.926894\n",
      "[99]\tvalid_0's auc: 0.92696\n",
      "[100]\tvalid_0's auc: 0.926974\n",
      "Did not meet early stopping. Best iteration is:\n",
      "[100]\tvalid_0's auc: 0.926974\n"
     ]
    }
   ],
   "source": [
    "parameters = {\n",
    "    'metric': 'auc',\n",
    "    'is_unbalance': 'true',\n",
    "    'num_leaves': 70,\n",
    "    'learning_rate': 0.01\n",
    "}\n",
    "\n",
    "train_data = lightgbm.Dataset(X_train, label=y_train, categorical_feature=categorical_features_list_indices)\n",
    "test_data = lightgbm.Dataset(X_test, label=y_test , categorical_feature=categorical_features_list_indices)\n",
    "\n",
    "model = lightgbm.train(parameters,\n",
    "                       train_data,\n",
    "                       valid_sets=test_data,\n",
    "                       num_boost_round=100,\n",
    "                       early_stopping_rounds=10)"
   ]
  },
  {
   "cell_type": "code",
   "execution_count": 37,
   "metadata": {},
   "outputs": [
    {
     "data": {
      "text/plain": [
       "array([[ 37832,  21575],\n",
       "       [   236, 392491]], dtype=int64)"
      ]
     },
     "execution_count": 37,
     "metadata": {},
     "output_type": "execute_result"
    }
   ],
   "source": [
    "predictions = model.predict(X_test)\n",
    "cm = confusion_matrix(y_test,np.around(predictions))\n",
    "cm    "
   ]
  },
  {
   "cell_type": "code",
   "execution_count": 38,
   "metadata": {},
   "outputs": [
    {
     "name": "stdout",
     "output_type": "stream",
     "text": [
      "Accuracy: 0.9517598764967907\n",
      "Precision: 0.9938005674056951\n",
      "Recall: 0.6368273099129732\n"
     ]
    }
   ],
   "source": [
    "print_model_results(y_test,np.around(predictions))\n"
   ]
  },
  {
   "cell_type": "code",
   "execution_count": 39,
   "metadata": {},
   "outputs": [
    {
     "data": {
      "text/plain": [
       "<matplotlib.axes._subplots.AxesSubplot at 0x1fea0927eb8>"
      ]
     },
     "execution_count": 39,
     "metadata": {},
     "output_type": "execute_result"
    },
    {
     "data": {
      "image/png": "[encoded data removed]",
      "text/plain": [
       "<Figure size 432x288 with 1 Axes>"
      ]
     },
     "metadata": {
      "needs_background": "light"
     },
     "output_type": "display_data"
    }
   ],
   "source": [
    "lightgbm.plot_importance(model,max_num_features=20 ,height =0.2)"
   ]
  },
  {
   "cell_type": "markdown",
   "metadata": {},
   "source": [
    "<a id=\"Logistic_regression\"></a>\n",
    "# 5.3 Logistic regression\n",
    "\n",
    "In order to use Logistic regression model i encode the categrial features using one hot encoding, and i normlize the data."
   ]
  },
  {
   "cell_type": "code",
   "execution_count": 40,
   "metadata": {},
   "outputs": [
    {
     "name": "stderr",
     "output_type": "stream",
     "text": [
      "C:\\Users\\oria\\Anaconda3\\lib\\site-packages\\sklearn\\preprocessing\\_encoders.py:346: DeprecationWarning: Passing 'n_values' is deprecated in version 0.20 and will be removed in 0.22. n_values='auto' can be replaced with categories='auto'.\n",
      "  warnings.warn(msg, DeprecationWarning)\n",
      "C:\\Users\\oria\\Anaconda3\\lib\\site-packages\\sklearn\\preprocessing\\_encoders.py:390: DeprecationWarning: The 'categorical_features' keyword is deprecated in version 0.20 and will be removed in 0.22. You can use the ColumnTransformer instead.\n",
      "  \"use the ColumnTransformer instead.\", DeprecationWarning)\n"
     ]
    },
    {
     "name": "stdout",
     "output_type": "stream",
     "text": [
      "(1808534, 3262)\n"
     ]
    }
   ],
   "source": [
    "enc = OneHotEncoder(handle_unknown='ignore' , n_values = 'auto',categorical_features = categorical_features_list_indices) \n",
    "enc.fit(X_train)\n",
    "X_train_logistic = enc.transform(X_train)\n",
    "X_test_logistic = enc.transform(X_test)\n",
    "print(X_train_logistic.shape)"
   ]
  },
  {
   "cell_type": "markdown",
   "metadata": {},
   "source": [
    "Note: one hot encoding caused the matrix to be sparsed."
   ]
  },
  {
   "cell_type": "code",
   "execution_count": 41,
   "metadata": {},
   "outputs": [
    {
     "name": "stdout",
     "output_type": "stream",
     "text": [
      "(1808534, 3262)\n"
     ]
    }
   ],
   "source": [
    "from sklearn import preprocessing\n",
    "names = df.columns\n",
    "continious_features = [x for x in names if x not in categorical_features_list]\n",
    "scaler = preprocessing.StandardScaler(with_mean=False).fit(X_train_logistic)\n",
    "X_train_logistic = scaler.transform(X_train_logistic)\n",
    "\n",
    "scaler = preprocessing.StandardScaler(with_mean=False).fit(X_test_logistic)\n",
    "X_test_logistic = scaler.transform(X_test_logistic)\n",
    "\n",
    "print(X_train_logistic.shape)"
   ]
  },
  {
   "cell_type": "markdown",
   "metadata": {},
   "source": [
    " \n"
   ]
  },
  {
   "cell_type": "code",
   "execution_count": 42,
   "metadata": {},
   "outputs": [],
   "source": [
    "from sklearn.linear_model import LogisticRegression"
   ]
  },
  {
   "cell_type": "code",
   "execution_count": 43,
   "metadata": {},
   "outputs": [
    {
     "name": "stderr",
     "output_type": "stream",
     "text": [
      "C:\\Users\\oria\\Anaconda3\\lib\\site-packages\\sklearn\\linear_model\\logistic.py:433: FutureWarning: Default solver will be changed to 'lbfgs' in 0.22. Specify a solver to silence this warning.\n",
      "  FutureWarning)\n",
      "C:\\Users\\oria\\Anaconda3\\lib\\site-packages\\sklearn\\svm\\base.py:922: ConvergenceWarning: Liblinear failed to converge, increase the number of iterations.\n",
      "  \"the number of iterations.\", ConvergenceWarning)\n"
     ]
    },
    {
     "data": {
      "text/plain": [
       "LogisticRegression(C=1.0, class_weight=None, dual=False, fit_intercept=True,\n",
       "          intercept_scaling=1, max_iter=100, multi_class='warn',\n",
       "          n_jobs=None, penalty='l2', random_state=None, solver='warn',\n",
       "          tol=0.0001, verbose=0, warm_start=False)"
      ]
     },
     "execution_count": 43,
     "metadata": {},
     "output_type": "execute_result"
    }
   ],
   "source": [
    "log_reg = LogisticRegression()\n",
    "log_reg.fit(X_train_logistic, y_train)"
   ]
  },
  {
   "cell_type": "code",
   "execution_count": 44,
   "metadata": {},
   "outputs": [
    {
     "data": {
      "text/plain": [
       "array([[ 35191,  24216],\n",
       "       [   828, 391899]], dtype=int64)"
      ]
     },
     "execution_count": 44,
     "metadata": {},
     "output_type": "execute_result"
    }
   ],
   "source": [
    "predictions = log_reg.predict(X_test_logistic)\n",
    "cm = confusion_matrix(y_test, predictions)\n",
    "cm "
   ]
  },
  {
   "cell_type": "code",
   "execution_count": 45,
   "metadata": {},
   "outputs": [
    {
     "name": "stdout",
     "output_type": "stream",
     "text": [
      "Accuracy: 0.9446093414784112\n",
      "Precision: 0.9770121324856326\n",
      "Recall: 0.5923712693790294\n"
     ]
    }
   ],
   "source": [
    "print_model_results(y_test, predictions)"
   ]
  },
  {
   "cell_type": "markdown",
   "metadata": {},
   "source": [
    "The results are better than the naive estimator. "
   ]
  },
  {
   "cell_type": "markdown",
   "metadata": {},
   "source": [
    "<a id=\"NN\"></a>\n",
    "# 5.4 NN\n",
    "\n",
    "I will use the same train data used for logistic regression (one hot encoding + normlization). \n",
    "\n",
    "Future work: instead of using one hot encoding - use embedding layer. This will extract more information from the categorial features. \n",
    "\n",
    "The parameters i use for the NN are:\n",
    "\n",
    "2 hidden layers. The sizes are: 400 , 100.\n",
    "\n",
    "Adam optimizer. For now this is the most efficient optimizer.\n",
    "\n",
    "Batch size = 50.\n",
    "\n",
    "Loss function: binary cross-entropy. This is the stantard loss function for binary classification. "
   ]
  },
  {
   "cell_type": "code",
   "execution_count": 46,
   "metadata": {},
   "outputs": [
    {
     "name": "stderr",
     "output_type": "stream",
     "text": [
      "Using TensorFlow backend.\n"
     ]
    },
    {
     "name": "stdout",
     "output_type": "stream",
     "text": [
      "WARNING:tensorflow:From C:\\Users\\oria\\Anaconda3\\lib\\site-packages\\tensorflow\\python\\framework\\op_def_library.py:263: colocate_with (from tensorflow.python.framework.ops) is deprecated and will be removed in a future version.\n",
      "Instructions for updating:\n",
      "Colocations handled automatically by placer.\n",
      "WARNING:tensorflow:From C:\\Users\\oria\\Anaconda3\\lib\\site-packages\\tensorflow\\python\\ops\\math_ops.py:3066: to_int32 (from tensorflow.python.ops.math_ops) is deprecated and will be removed in a future version.\n",
      "Instructions for updating:\n",
      "Use tf.cast instead.\n",
      "Epoch 1/10\n",
      "1808534/1808534 [==============================] - 928s 513us/step - loss: 0.1880 - acc: 0.9422\n",
      "Epoch 2/10\n",
      "1808534/1808534 [==============================] - 927s 513us/step - loss: 0.1734 - acc: 0.9469\n",
      "Epoch 3/10\n",
      "1808534/1808534 [==============================] - 927s 512us/step - loss: 0.1704 - acc: 0.9479\n",
      "Epoch 4/10\n",
      "1808534/1808534 [==============================] - 927s 513us/step - loss: 0.1683 - acc: 0.9485\n",
      "Epoch 5/10\n",
      "1808534/1808534 [==============================] - 926s 512us/step - loss: 0.1669 - acc: 0.9490\n",
      "Epoch 6/10\n",
      "1808534/1808534 [==============================] - 926s 512us/step - loss: 0.1658 - acc: 0.9492s - loss: 0.1658 - acc: 0.\n",
      "Epoch 7/10\n",
      "1808534/1808534 [==============================] - 932s 515us/step - loss: 0.1651 - acc: 0.9495\n",
      "Epoch 8/10\n",
      "1808534/1808534 [==============================] - 927s 512us/step - loss: 0.1642 - acc: 0.9498\n",
      "Epoch 9/10\n",
      "1808534/1808534 [==============================] - 926s 512us/step - loss: 0.1635 - acc: 0.9499\n",
      "Epoch 10/10\n",
      "1808534/1808534 [==============================] - 927s 512us/step - loss: 0.1629 - acc: 0.9500\n",
      "452134/452134 [==============================] - 37s 82us/step\n",
      "Accuracy: 94.79\n"
     ]
    }
   ],
   "source": [
    "#NN\n",
    "from keras.models import Sequential\n",
    "from keras.layers import Dense\n",
    "\n",
    "#Set layers size\n",
    "n_inputs = X_train_logistic.shape[1]\n",
    "hidden1_amount = 400\n",
    "hidden2_amount = 100\n",
    "n_outputs = 1\n",
    "\n",
    "# define the keras model\n",
    "model = Sequential()\n",
    "model.add(Dense(hidden1_amount, input_dim=n_inputs, activation='relu'))\n",
    "model.add(Dense(hidden2_amount, activation='relu'))\n",
    "model.add(Dense(n_outputs, activation='sigmoid'))\n",
    "# compile the keras model\n",
    "model.compile(loss='binary_crossentropy', optimizer='adam', metrics=['accuracy'])\n",
    "# fit the keras model on the dataset\n",
    "model.fit(X_train_logistic, y_train, epochs=10, batch_size=50)\n",
    "# evaluate the keras model \n",
    "_, accuracy = model.evaluate(X_test_logistic, y_test , batch_size = 50)\n",
    "print('Accuracy: %.2f' % (accuracy*100))"
   ]
  },
  {
   "cell_type": "code",
   "execution_count": 47,
   "metadata": {},
   "outputs": [
    {
     "data": {
      "text/plain": [
       "array([[ 36506,  22901],\n",
       "       [   669, 392058]], dtype=int64)"
      ]
     },
     "execution_count": 47,
     "metadata": {},
     "output_type": "execute_result"
    }
   ],
   "source": [
    "predictions = model.predict_classes(X_test_logistic)\n",
    "cm = confusion_matrix(y_test, predictions)\n",
    "cm "
   ]
  },
  {
   "cell_type": "code",
   "execution_count": 48,
   "metadata": {},
   "outputs": [
    {
     "name": "stdout",
     "output_type": "stream",
     "text": [
      "Accuracy: 0.9478694369368373\n",
      "Precision: 0.9820040349697378\n",
      "Recall: 0.614506707963708\n"
     ]
    }
   ],
   "source": [
    "print_model_results(y_test, predictions)"
   ]
  },
  {
   "cell_type": "markdown",
   "metadata": {},
   "source": [
    "<a id=\"Conclusions\"></a>\n",
    "# 6. Conclusions\n",
    "\n",
    "GBM, Logistic regression and NN provides similar results using default parameters. \n",
    "The results are better than the Naive estimater; however, Recall rate can still be improved.\n",
    "I would expect differnt results for each estimator, there might be a not relevant feature that causes this. "
   ]
  },
  {
   "cell_type": "markdown",
   "metadata": {},
   "source": [
    "<a id=\"Future_work\"></a>\n",
    "# 7. Future work\n",
    "\n",
    "In order to improve the results future work is needed.\n",
    "1. Understand the data more deeply.\n",
    "2. Understand loans buisness more deeply. \n",
    "2. Think of new hypothesis and extract new features from the original features. \n",
    "3. Complete missing values for each feature indevidually.\n",
    "4. Remove features that are not needed in order to make the models more efficient and to avoid overfitting. \n",
    "5. Optimize the estimators, understanding the overfitting point.\n",
    "6. Using different architecture for NN, and use more layers (embedding, word2vec, batch normlization). \n",
    " "
   ]
  }
 ],
 "metadata": {
  "celltoolbar": "Raw Cell Format",
  "kernelspec": {
   "display_name": "Python 3",
   "language": "python",
   "name": "python3"
  },
  "language_info": {
   "codemirror_mode": {
    "name": "ipython",
    "version": 3
   },
   "file_extension": ".py",
   "mimetype": "text/x-python",
   "name": "python",
   "nbconvert_exporter": "python",
   "pygments_lexer": "ipython3",
   "version": "3.7.1"
  }
 },
 "nbformat": 4,
 "nbformat_minor": 2
}
